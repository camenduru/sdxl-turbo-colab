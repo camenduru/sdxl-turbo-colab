{
  "cells": [
    {
      "cell_type": "markdown",
      "metadata": {
        "id": "view-in-github"
      },
      "source": [
        "[![Open In Colab](https://colab.research.google.com/assets/colab-badge.svg)](https://colab.research.google.com/github/camenduru/sdxl-turbo-colab/blob/main/sdxl_turbo_diffusers_colab.ipynb)"
      ]
    },
    {
      "cell_type": "code",
      "execution_count": null,
      "metadata": {
        "id": "VjYy0F2gZIPR"
      },
      "outputs": [],
      "source": [
        "!pip install -q diffusers transformers accelerate peft gradio==3.50.2\n",
        "\n",
        "from diffusers import AutoPipelineForText2Image\n",
        "import torch\n",
        "\n",
        "pipe = AutoPipelineForText2Image.from_pretrained(\"stabilityai/sdxl-turbo\", torch_dtype=torch.float16, variant=\"fp16\").to(\"cuda\")\n",
        "pipe.set_progress_bar_config(disable=True)\n",
        "\n",
        "import gradio as gr\n",
        "\n",
        "def generate(prompt):\n",
        "  image = pipe(prompt, num_inference_steps=1, guidance_scale=0.0, strength=0.5, width=512, height=512).images[0]\n",
        "  return image.resize((512, 512))\n",
        "\n",
        "with gr.Blocks(title=f\"Realtime Latent Consistency Model\") as demo:\n",
        "    with gr.Row():\n",
        "      with gr.Column(scale=23):\n",
        "          textbox = gr.Textbox(show_label=False, value=\"a close-up picture of a fluffy cat\")\n",
        "    with gr.Row(variant=\"default\"):\n",
        "        output_image = gr.Image(\n",
        "            show_label=False,\n",
        "            type=\"pil\",\n",
        "            interactive=False,\n",
        "            height=742,\n",
        "            width=742,\n",
        "            elem_id=\"output_image\",\n",
        "        )\n",
        "\n",
        "    textbox.change(fn=generate, inputs=[textbox], outputs=[output_image], show_progress=False)\n",
        "    input_image.change(fn=generate, inputs=[textbox], outputs=[output_image], show_progress=False)\n",
        "\n",
        "demo.launch(inline=False, share=True)"
      ]
    }
  ],
  "metadata": {
    "accelerator": "GPU",
    "colab": {
      "gpuType": "T4",
      "provenance": []
    },
    "kernelspec": {
      "display_name": "Python 3",
      "name": "python3"
    },
    "language_info": {
      "name": "python"
    }
  },
  "nbformat": 4,
  "nbformat_minor": 0
}
